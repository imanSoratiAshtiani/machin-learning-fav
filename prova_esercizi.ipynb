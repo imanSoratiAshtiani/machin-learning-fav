{
  "nbformat": 4,
  "nbformat_minor": 0,
  "metadata": {
    "colab": {
      "name": "prova_esercizi.ipynb",
      "provenance": [],
      "collapsed_sections": [],
      "mount_file_id": "1kAv3rXgEguqah4nN5pXbxHKhzPL07J_k",
      "authorship_tag": "ABX9TyOHrsdgV1gY6SUnlYJtUB5C",
      "include_colab_link": true
    },
    "kernelspec": {
      "name": "python3",
      "display_name": "Python 3"
    }
  },
  "cells": [
    {
      "cell_type": "markdown",
      "metadata": {
        "id": "view-in-github",
        "colab_type": "text"
      },
      "source": [
        "<a href=\"https://colab.research.google.com/github/imanSoratiAshtiani/machin-learning-fav/blob/master/prova_esercizi.ipynb\" target=\"_parent\"><img src=\"https://colab.research.google.com/assets/colab-badge.svg\" alt=\"Open In Colab\"/></a>"
      ]
    },
    {
      "cell_type": "code",
      "metadata": {
        "id": "GyELyi_SZSij",
        "colab_type": "code",
        "colab": {
          "base_uri": "https://localhost:8080/",
          "height": 34
        },
        "outputId": "72bc974b-4d6c-4fe4-e71d-c85890d14ed7"
      },
      "source": [
        "print('ciao)')\n"
      ],
      "execution_count": null,
      "outputs": [
        {
          "output_type": "stream",
          "text": [
            "ciao)\n"
          ],
          "name": "stdout"
        }
      ]
    },
    {
      "cell_type": "code",
      "metadata": {
        "id": "iOiEYJEdZauH",
        "colab_type": "code",
        "colab": {
          "base_uri": "https://localhost:8080/",
          "height": 34
        },
        "outputId": "23637e27-d0d8-4249-b8bd-7eff99dba803"
      },
      "source": [
        "!ls"
      ],
      "execution_count": null,
      "outputs": [
        {
          "output_type": "stream",
          "text": [
            "sample_data\n"
          ],
          "name": "stdout"
        }
      ]
    },
    {
      "cell_type": "code",
      "metadata": {
        "id": "Ngpw0Q1rlC8X",
        "colab_type": "code",
        "colab": {
          "base_uri": "https://localhost:8080/",
          "height": 50
        },
        "outputId": "d695b28d-99a5-42ca-cb1e-d958c01dc45a"
      },
      "source": [
        "%cd drive"
      ],
      "execution_count": null,
      "outputs": [
        {
          "output_type": "stream",
          "text": [
            "[Errno 2] No such file or directory: 'drive'\n",
            "/content\n"
          ],
          "name": "stdout"
        }
      ]
    },
    {
      "cell_type": "code",
      "metadata": {
        "id": "2v8BREzLljw4",
        "colab_type": "code",
        "colab": {}
      },
      "source": [
        "from IPython.display import Image"
      ],
      "execution_count": null,
      "outputs": []
    },
    {
      "cell_type": "code",
      "metadata": {
        "id": "V_XRzB5Nl6nd",
        "colab_type": "code",
        "colab": {
          "base_uri": "https://localhost:8080/",
          "height": 34
        },
        "outputId": "37fda17a-0411-4de7-dead-2c9a951bb891"
      },
      "source": [
        "Image('img/im.jpg')"
      ],
      "execution_count": null,
      "outputs": [
        {
          "output_type": "execute_result",
          "data": {
            "image/png": "img/im.jpg",
            "text/plain": [
              "<IPython.core.display.Image object>"
            ]
          },
          "metadata": {
            "tags": []
          },
          "execution_count": 95
        }
      ]
    },
    {
      "cell_type": "code",
      "metadata": {
        "id": "_Poj4q_XmADk",
        "colab_type": "code",
        "colab": {
          "base_uri": "https://localhost:8080/",
          "height": 50
        },
        "outputId": "fa770934-0bdd-4c84-a350-618358a10145"
      },
      "source": [
        "%cd My Drive/Colab Notebooks\n"
      ],
      "execution_count": null,
      "outputs": [
        {
          "output_type": "stream",
          "text": [
            "[Errno 2] No such file or directory: 'My Drive/Colab Notebooks'\n",
            "/content\n"
          ],
          "name": "stdout"
        }
      ]
    },
    {
      "cell_type": "code",
      "metadata": {
        "id": "1p03L--rmSI5",
        "colab_type": "code",
        "colab": {
          "base_uri": "https://localhost:8080/",
          "height": 34
        },
        "outputId": "73a87e79-14ea-4a69-e463-229f03528e15"
      },
      "source": [
        "Image('im.jpg')"
      ],
      "execution_count": null,
      "outputs": [
        {
          "output_type": "execute_result",
          "data": {
            "image/png": "im.jpg",
            "text/plain": [
              "<IPython.core.display.Image object>"
            ]
          },
          "metadata": {
            "tags": []
          },
          "execution_count": 97
        }
      ]
    },
    {
      "cell_type": "code",
      "metadata": {
        "id": "eTEZS3dRmlvQ",
        "colab_type": "code",
        "colab": {}
      },
      "source": [
        "a=2\n"
      ],
      "execution_count": null,
      "outputs": []
    },
    {
      "cell_type": "code",
      "metadata": {
        "id": "xKR3ltSSl5BJ",
        "colab_type": "code",
        "colab": {}
      },
      "source": [
        "dic={'key1': 'val1', 'k2':'val2', 'k3':'val3', 'k4':[1,2,3,4,5]}"
      ],
      "execution_count": null,
      "outputs": []
    },
    {
      "cell_type": "code",
      "metadata": {
        "id": "H30PoOR9nAIk",
        "colab_type": "code",
        "colab": {
          "base_uri": "https://localhost:8080/",
          "height": 35
        },
        "outputId": "d617ac52-e9ed-41f4-a94f-179f916d5a3a"
      },
      "source": [
        "dic['k2'].upper()"
      ],
      "execution_count": null,
      "outputs": [
        {
          "output_type": "execute_result",
          "data": {
            "application/vnd.google.colaboratory.intrinsic": {
              "type": "string"
            },
            "text/plain": [
              "'VAL2'"
            ]
          },
          "metadata": {
            "tags": []
          },
          "execution_count": 100
        }
      ]
    },
    {
      "cell_type": "code",
      "metadata": {
        "id": "wsP1oAg1oVSv",
        "colab_type": "code",
        "colab": {
          "base_uri": "https://localhost:8080/",
          "height": 34
        },
        "outputId": "f65f3b3e-7d45-49d4-c2a5-5eb2a0c4f4ab"
      },
      "source": [
        "dic"
      ],
      "execution_count": null,
      "outputs": [
        {
          "output_type": "execute_result",
          "data": {
            "text/plain": [
              "{'k2': 'val2', 'k3': 'val3', 'k4': [1, 2, 3, 4, 5], 'key1': 'val1'}"
            ]
          },
          "metadata": {
            "tags": []
          },
          "execution_count": 101
        }
      ]
    },
    {
      "cell_type": "code",
      "metadata": {
        "id": "sK4L31dxohEQ",
        "colab_type": "code",
        "colab": {
          "base_uri": "https://localhost:8080/",
          "height": 34
        },
        "outputId": "216531f8-b929-4916-daab-4e07744d73d2"
      },
      "source": [
        "dic['k4'][3]"
      ],
      "execution_count": null,
      "outputs": [
        {
          "output_type": "execute_result",
          "data": {
            "text/plain": [
              "4"
            ]
          },
          "metadata": {
            "tags": []
          },
          "execution_count": 102
        }
      ]
    },
    {
      "cell_type": "markdown",
      "metadata": {
        "id": "hbdOcpSspa6x",
        "colab_type": "text"
      },
      "source": [
        "#i metodi fondamentali"
      ]
    },
    {
      "cell_type": "code",
      "metadata": {
        "id": "NNiec71ZpeUn",
        "colab_type": "code",
        "colab": {
          "base_uri": "https://localhost:8080/",
          "height": 34
        },
        "outputId": "7e206e6b-719c-4955-c304-05f375e4b129"
      },
      "source": [
        "dic['k2']='nuovo valore'\n",
        "dic"
      ],
      "execution_count": null,
      "outputs": [
        {
          "output_type": "execute_result",
          "data": {
            "text/plain": [
              "{'k2': 'nuovo valore', 'k3': 'val3', 'k4': [1, 2, 3, 4, 5], 'key1': 'val1'}"
            ]
          },
          "metadata": {
            "tags": []
          },
          "execution_count": 103
        }
      ]
    },
    {
      "cell_type": "code",
      "metadata": {
        "id": "_KhDgdnGuOKC",
        "colab_type": "code",
        "colab": {
          "base_uri": "https://localhost:8080/",
          "height": 84
        },
        "outputId": "3ca54a56-84d9-458b-ab6e-500d96477ca1"
      },
      "source": [
        "dic['k4'].append([9,8])\n",
        "dic"
      ],
      "execution_count": null,
      "outputs": [
        {
          "output_type": "execute_result",
          "data": {
            "text/plain": [
              "{'k2': 'nuovo valore',\n",
              " 'k3': 'val3',\n",
              " 'k4': [1, 2, 3, 4, 5, [9, 8]],\n",
              " 'key1': 'val1'}"
            ]
          },
          "metadata": {
            "tags": []
          },
          "execution_count": 104
        }
      ]
    },
    {
      "cell_type": "code",
      "metadata": {
        "id": "FQ-Tum-JuZJt",
        "colab_type": "code",
        "colab": {
          "base_uri": "https://localhost:8080/",
          "height": 84
        },
        "outputId": "e7e33515-27cc-421f-89e6-15e4e2e73cf2"
      },
      "source": [
        "dic['k3']='iman'\n",
        "dic"
      ],
      "execution_count": null,
      "outputs": [
        {
          "output_type": "execute_result",
          "data": {
            "text/plain": [
              "{'k2': 'nuovo valore',\n",
              " 'k3': 'iman',\n",
              " 'k4': [1, 2, 3, 4, 5, [9, 8]],\n",
              " 'key1': 'val1'}"
            ]
          },
          "metadata": {
            "tags": []
          },
          "execution_count": 105
        }
      ]
    },
    {
      "cell_type": "code",
      "metadata": {
        "id": "3U1-zxEius1r",
        "colab_type": "code",
        "colab": {
          "base_uri": "https://localhost:8080/",
          "height": 34
        },
        "outputId": "9ad0e5a9-3dc6-4128-8ebe-c059a8567b76"
      },
      "source": [
        "dic.keys()"
      ],
      "execution_count": null,
      "outputs": [
        {
          "output_type": "execute_result",
          "data": {
            "text/plain": [
              "dict_keys(['key1', 'k2', 'k3', 'k4'])"
            ]
          },
          "metadata": {
            "tags": []
          },
          "execution_count": 106
        }
      ]
    },
    {
      "cell_type": "code",
      "metadata": {
        "id": "qEGmhnZbu4mf",
        "colab_type": "code",
        "colab": {
          "base_uri": "https://localhost:8080/",
          "height": 34
        },
        "outputId": "03a9902b-0d42-490b-d566-9e03d52f70d4"
      },
      "source": [
        "dic.values()"
      ],
      "execution_count": null,
      "outputs": [
        {
          "output_type": "execute_result",
          "data": {
            "text/plain": [
              "dict_values(['val1', 'nuovo valore', 'iman', [1, 2, 3, 4, 5, [9, 8]]])"
            ]
          },
          "metadata": {
            "tags": []
          },
          "execution_count": 107
        }
      ]
    },
    {
      "cell_type": "code",
      "metadata": {
        "id": "YydiTaVAu8Zc",
        "colab_type": "code",
        "colab": {
          "base_uri": "https://localhost:8080/",
          "height": 34
        },
        "outputId": "8b5dc279-fcc1-4054-b2c7-4914725be90a"
      },
      "source": [
        "dic.items()"
      ],
      "execution_count": null,
      "outputs": [
        {
          "output_type": "execute_result",
          "data": {
            "text/plain": [
              "dict_items([('key1', 'val1'), ('k2', 'nuovo valore'), ('k3', 'iman'), ('k4', [1, 2, 3, 4, 5, [9, 8]])])"
            ]
          },
          "metadata": {
            "tags": []
          },
          "execution_count": 108
        }
      ]
    },
    {
      "cell_type": "code",
      "metadata": {
        "id": "n6GOAY5pu_R3",
        "colab_type": "code",
        "colab": {
          "base_uri": "https://localhost:8080/",
          "height": 34
        },
        "outputId": "6d5cdc0e-954d-4b20-dda5-1c1e98afefb2"
      },
      "source": [
        "'scarpe' in dic"
      ],
      "execution_count": null,
      "outputs": [
        {
          "output_type": "execute_result",
          "data": {
            "text/plain": [
              "False"
            ]
          },
          "metadata": {
            "tags": []
          },
          "execution_count": 109
        }
      ]
    },
    {
      "cell_type": "code",
      "metadata": {
        "id": "rxxQSv9gv1Uo",
        "colab_type": "code",
        "colab": {
          "base_uri": "https://localhost:8080/",
          "height": 34
        },
        "outputId": "c1cf742b-37b8-491e-d98b-8a64cacc00bc"
      },
      "source": [
        "'scarpe' in dic.keys()"
      ],
      "execution_count": null,
      "outputs": [
        {
          "output_type": "execute_result",
          "data": {
            "text/plain": [
              "False"
            ]
          },
          "metadata": {
            "tags": []
          },
          "execution_count": 110
        }
      ]
    },
    {
      "cell_type": "code",
      "metadata": {
        "id": "QZOyFmauwGuA",
        "colab_type": "code",
        "colab": {
          "base_uri": "https://localhost:8080/",
          "height": 34
        },
        "outputId": "25fe05b9-4676-41c8-c598-2e7018c462cc"
      },
      "source": [
        "'k3' in dic"
      ],
      "execution_count": null,
      "outputs": [
        {
          "output_type": "execute_result",
          "data": {
            "text/plain": [
              "True"
            ]
          },
          "metadata": {
            "tags": []
          },
          "execution_count": 111
        }
      ]
    },
    {
      "cell_type": "code",
      "metadata": {
        "id": "AeuNX0BiwM78",
        "colab_type": "code",
        "colab": {
          "base_uri": "https://localhost:8080/",
          "height": 118
        },
        "outputId": "26e4e6b2-768d-426f-d14f-004730fa63e5"
      },
      "source": [
        "if 'k3' in dic:\n",
        "  dic['k3']='new'\n",
        "  print('sìì')\n",
        "if 'nuovo valore' not in dic:\n",
        "  print('nooo')\n",
        "dic"
      ],
      "execution_count": null,
      "outputs": [
        {
          "output_type": "stream",
          "text": [
            "sìì\n",
            "nooo\n"
          ],
          "name": "stdout"
        },
        {
          "output_type": "execute_result",
          "data": {
            "text/plain": [
              "{'k2': 'nuovo valore',\n",
              " 'k3': 'new',\n",
              " 'k4': [1, 2, 3, 4, 5, [9, 8]],\n",
              " 'key1': 'val1'}"
            ]
          },
          "metadata": {
            "tags": []
          },
          "execution_count": 112
        }
      ]
    },
    {
      "cell_type": "code",
      "metadata": {
        "id": "WOuxIu6Vyiq9",
        "colab_type": "code",
        "colab": {
          "base_uri": "https://localhost:8080/",
          "height": 67
        },
        "outputId": "9051e860-b983-4039-bf66-1ba790dfecb8"
      },
      "source": [
        "print(type(dic.keys()))\n",
        "print(type(dic.values()))\n",
        "print(type(dic.items()))\n"
      ],
      "execution_count": null,
      "outputs": [
        {
          "output_type": "stream",
          "text": [
            "<class 'dict_keys'>\n",
            "<class 'dict_values'>\n",
            "<class 'dict_items'>\n"
          ],
          "name": "stdout"
        }
      ]
    },
    {
      "cell_type": "code",
      "metadata": {
        "id": "aypmaMSYxwd5",
        "colab_type": "code",
        "colab": {
          "base_uri": "https://localhost:8080/",
          "height": 34
        },
        "outputId": "4683db13-7915-430a-f29f-3170ae06da5c"
      },
      "source": [
        "agenda={'mario a':0, 'mario b': 1}\n",
        "'mario' in agenda"
      ],
      "execution_count": null,
      "outputs": [
        {
          "output_type": "execute_result",
          "data": {
            "text/plain": [
              "False"
            ]
          },
          "metadata": {
            "tags": []
          },
          "execution_count": 114
        }
      ]
    },
    {
      "cell_type": "code",
      "metadata": {
        "id": "AWvEHDo80dug",
        "colab_type": "code",
        "colab": {
          "base_uri": "https://localhost:8080/",
          "height": 34
        },
        "outputId": "c6d7ef4a-0eb2-430f-9f77-aab47e675b7e"
      },
      "source": [
        "'mario a' in agenda"
      ],
      "execution_count": null,
      "outputs": [
        {
          "output_type": "execute_result",
          "data": {
            "text/plain": [
              "True"
            ]
          },
          "metadata": {
            "tags": []
          },
          "execution_count": 115
        }
      ]
    },
    {
      "cell_type": "code",
      "metadata": {
        "id": "JKbEWnIL0i02",
        "colab_type": "code",
        "colab": {
          "base_uri": "https://localhost:8080/",
          "height": 34
        },
        "outputId": "522bad2d-ad83-4600-e1e3-d730a2ef4dfc"
      },
      "source": [
        "'iman is a good one'.find('sexy')"
      ],
      "execution_count": null,
      "outputs": [
        {
          "output_type": "execute_result",
          "data": {
            "text/plain": [
              "-1"
            ]
          },
          "metadata": {
            "tags": []
          },
          "execution_count": 116
        }
      ]
    },
    {
      "cell_type": "code",
      "metadata": {
        "id": "Hdthk9GF8yks",
        "colab_type": "code",
        "colab": {
          "base_uri": "https://localhost:8080/",
          "height": 34
        },
        "outputId": "1c08b96c-59e4-4f02-fa9e-ccedfeba8e04"
      },
      "source": [
        "'iman is a good one'.count('sexy')"
      ],
      "execution_count": null,
      "outputs": [
        {
          "output_type": "execute_result",
          "data": {
            "text/plain": [
              "0"
            ]
          },
          "metadata": {
            "tags": []
          },
          "execution_count": 117
        }
      ]
    },
    {
      "cell_type": "code",
      "metadata": {
        "id": "RGpX-B9O89P0",
        "colab_type": "code",
        "colab": {
          "base_uri": "https://localhost:8080/",
          "height": 34
        },
        "outputId": "de6a58aa-9b17-4b88-e079-a5ae5b4b9bb0"
      },
      "source": [
        "len('iman is a good one')"
      ],
      "execution_count": null,
      "outputs": [
        {
          "output_type": "execute_result",
          "data": {
            "text/plain": [
              "18"
            ]
          },
          "metadata": {
            "tags": []
          },
          "execution_count": 118
        }
      ]
    },
    {
      "cell_type": "code",
      "metadata": {
        "id": "3qcSqBR49Bww",
        "colab_type": "code",
        "colab": {
          "base_uri": "https://localhost:8080/",
          "height": 34
        },
        "outputId": "73a08e0f-b97c-4757-8231-d4be336fd8c1"
      },
      "source": [
        "'iman is a good one'.find('i')"
      ],
      "execution_count": null,
      "outputs": [
        {
          "output_type": "execute_result",
          "data": {
            "text/plain": [
              "0"
            ]
          },
          "metadata": {
            "tags": []
          },
          "execution_count": 119
        }
      ]
    },
    {
      "cell_type": "code",
      "metadata": {
        "id": "kNnrLujU9IMq",
        "colab_type": "code",
        "colab": {
          "base_uri": "https://localhost:8080/",
          "height": 34
        },
        "outputId": "5d0c48e4-201e-4c33-8d1f-d63460c1e601"
      },
      "source": [
        "'iman is a good one'.find('i',1)"
      ],
      "execution_count": null,
      "outputs": [
        {
          "output_type": "execute_result",
          "data": {
            "text/plain": [
              "5"
            ]
          },
          "metadata": {
            "tags": []
          },
          "execution_count": 120
        }
      ]
    },
    {
      "cell_type": "code",
      "metadata": {
        "id": "MtT5TcY79SqI",
        "colab_type": "code",
        "colab": {
          "base_uri": "https://localhost:8080/",
          "height": 34
        },
        "outputId": "01497622-e6f8-45f7-c906-07dc7f03e26d"
      },
      "source": [
        "'iman is a good one'.find('I')"
      ],
      "execution_count": null,
      "outputs": [
        {
          "output_type": "execute_result",
          "data": {
            "text/plain": [
              "-1"
            ]
          },
          "metadata": {
            "tags": []
          },
          "execution_count": 121
        }
      ]
    },
    {
      "cell_type": "code",
      "metadata": {
        "id": "N9CRFSuW9bkT",
        "colab_type": "code",
        "colab": {
          "base_uri": "https://localhost:8080/",
          "height": 35
        },
        "outputId": "91e6f014-ff50-4f01-b4a8-70e64726e542"
      },
      "source": [
        "'iman is a good one'[0:4]"
      ],
      "execution_count": null,
      "outputs": [
        {
          "output_type": "execute_result",
          "data": {
            "application/vnd.google.colaboratory.intrinsic": {
              "type": "string"
            },
            "text/plain": [
              "'iman'"
            ]
          },
          "metadata": {
            "tags": []
          },
          "execution_count": 122
        }
      ]
    },
    {
      "cell_type": "code",
      "metadata": {
        "id": "xx-D3o9e-LHs",
        "colab_type": "code",
        "colab": {
          "base_uri": "https://localhost:8080/",
          "height": 50
        },
        "outputId": "b5ba8a35-24b6-4224-d9f0-36c354d12677"
      },
      "source": [
        "a='iman is a good one'.split()\n",
        "print(a)\n",
        "type(a)"
      ],
      "execution_count": null,
      "outputs": [
        {
          "output_type": "stream",
          "text": [
            "['iman', 'is', 'a', 'good', 'one']\n"
          ],
          "name": "stdout"
        },
        {
          "output_type": "execute_result",
          "data": {
            "text/plain": [
              "list"
            ]
          },
          "metadata": {
            "tags": []
          },
          "execution_count": 123
        }
      ]
    },
    {
      "cell_type": "code",
      "metadata": {
        "id": "5J653sGB-X98",
        "colab_type": "code",
        "colab": {
          "base_uri": "https://localhost:8080/",
          "height": 35
        },
        "outputId": "89d48a82-6c85-4e47-efdf-6555a8f8c64a"
      },
      "source": [
        "b='iman is a good one'[0::2].upper()\n",
        "b"
      ],
      "execution_count": null,
      "outputs": [
        {
          "output_type": "execute_result",
          "data": {
            "application/vnd.google.colaboratory.intrinsic": {
              "type": "string"
            },
            "text/plain": [
              "'IA SAGO N'"
            ]
          },
          "metadata": {
            "tags": []
          },
          "execution_count": 124
        }
      ]
    },
    {
      "cell_type": "code",
      "metadata": {
        "id": "Tyih_H5l-QCI",
        "colab_type": "code",
        "colab": {
          "base_uri": "https://localhost:8080/",
          "height": 84
        },
        "outputId": "f01b966f-43c8-49ec-b4f9-763cce848ba7"
      },
      "source": [
        "for val in dic:\n",
        "  print(val)"
      ],
      "execution_count": null,
      "outputs": [
        {
          "output_type": "stream",
          "text": [
            "key1\n",
            "k2\n",
            "k3\n",
            "k4\n"
          ],
          "name": "stdout"
        }
      ]
    },
    {
      "cell_type": "code",
      "metadata": {
        "id": "MYSclcn__cZ8",
        "colab_type": "code",
        "colab": {
          "base_uri": "https://localhost:8080/",
          "height": 84
        },
        "outputId": "ef81049b-6a71-4a7b-a958-e957bfb48045"
      },
      "source": [
        "for key, value in dic.items():\n",
        "  print(key, value)"
      ],
      "execution_count": null,
      "outputs": [
        {
          "output_type": "stream",
          "text": [
            "key1 val1\n",
            "k2 nuovo valore\n",
            "k3 new\n",
            "k4 [1, 2, 3, 4, 5, [9, 8]]\n"
          ],
          "name": "stdout"
        }
      ]
    },
    {
      "cell_type": "code",
      "metadata": {
        "id": "fhQmY4KF_nB0",
        "colab_type": "code",
        "colab": {
          "base_uri": "https://localhost:8080/",
          "height": 34
        },
        "outputId": "8bd77968-f5eb-4a56-847c-d53ddcbf19cb"
      },
      "source": [
        "agenda"
      ],
      "execution_count": null,
      "outputs": [
        {
          "output_type": "execute_result",
          "data": {
            "text/plain": [
              "{'mario a': 0, 'mario b': 1}"
            ]
          },
          "metadata": {
            "tags": []
          },
          "execution_count": 127
        }
      ]
    },
    {
      "cell_type": "code",
      "metadata": {
        "id": "wczu22rxAHuK",
        "colab_type": "code",
        "colab": {}
      },
      "source": [
        "agenda[3]='marioc'"
      ],
      "execution_count": null,
      "outputs": []
    },
    {
      "cell_type": "code",
      "metadata": {
        "id": "_KaSRLx1AZGU",
        "colab_type": "code",
        "colab": {
          "base_uri": "https://localhost:8080/",
          "height": 34
        },
        "outputId": "e4819684-70d4-4f8a-bd9d-28d3c649ac8f"
      },
      "source": [
        "agenda"
      ],
      "execution_count": null,
      "outputs": [
        {
          "output_type": "execute_result",
          "data": {
            "text/plain": [
              "{3: 'marioc', 'mario a': 0, 'mario b': 1}"
            ]
          },
          "metadata": {
            "tags": []
          },
          "execution_count": 129
        }
      ]
    },
    {
      "cell_type": "code",
      "metadata": {
        "id": "FtWRpy3kAa_E",
        "colab_type": "code",
        "colab": {
          "base_uri": "https://localhost:8080/",
          "height": 34
        },
        "outputId": "69e2763a-6021-4692-ca23-dfbf9240bac8"
      },
      "source": [
        "ricerda='mario'\n",
        "risult=['mario Rossi', 'mario b', 'marioc']\n",
        "risultato=[]\n",
        "type(agenda)"
      ],
      "execution_count": null,
      "outputs": [
        {
          "output_type": "execute_result",
          "data": {
            "text/plain": [
              "dict"
            ]
          },
          "metadata": {
            "tags": []
          },
          "execution_count": 130
        }
      ]
    },
    {
      "cell_type": "code",
      "metadata": {
        "id": "drBF2AxGAg3M",
        "colab_type": "code",
        "colab": {
          "base_uri": "https://localhost:8080/",
          "height": 34
        },
        "outputId": "a66aacbf-7b77-43f7-ad79-190933af01f1"
      },
      "source": [
        "agenda={'mario a':0, 'Mario b':1, 3:'marioC'}\n",
        "risultato=[]\n",
        "for k, v in agenda.items():\n",
        "  if 'mario'.lower() in str(k).lower():\n",
        "    risultato.append(k)\n",
        "  elif 'mario'.lower() in str(v).lower():\n",
        "     risultato.append(v)\n",
        "print(risultato)"
      ],
      "execution_count": null,
      "outputs": [
        {
          "output_type": "stream",
          "text": [
            "['mario a', 'Mario b', 'marioC']\n"
          ],
          "name": "stdout"
        }
      ]
    },
    {
      "cell_type": "code",
      "metadata": {
        "id": "poKvooAUCb3n",
        "colab_type": "code",
        "colab": {
          "base_uri": "https://localhost:8080/",
          "height": 151
        },
        "outputId": "926a2c9c-1156-4d0a-fc6f-b7c840fc65c2"
      },
      "source": [
        "i=0\n",
        "stringa='hello mario 4'\n",
        "ricerca='mario'\n",
        "lungezza=len(ricerca)\n",
        "trovata=False\n",
        "while i +lungezza<len(stringa) and not trovata:\n",
        "  print(stringa[i:i+lungezza].upper())\n",
        "  if(stringa[i:i+lungezza].upper()==ricerca.upper()):\n",
        "    trovata=True\n",
        "  i+=1\n",
        "print(trovata)"
      ],
      "execution_count": null,
      "outputs": [
        {
          "output_type": "stream",
          "text": [
            "HELLO\n",
            "ELLO \n",
            "LLO M\n",
            "LO MA\n",
            "O MAR\n",
            " MARI\n",
            "MARIO\n",
            "True\n"
          ],
          "name": "stdout"
        }
      ]
    },
    {
      "cell_type": "code",
      "metadata": {
        "id": "tYaiw01OIDO2",
        "colab_type": "code",
        "colab": {}
      },
      "source": [
        "def hello():\n",
        "  print('Helllo')"
      ],
      "execution_count": null,
      "outputs": []
    },
    {
      "cell_type": "code",
      "metadata": {
        "id": "NL8roOkYhYuh",
        "colab_type": "code",
        "colab": {
          "base_uri": "https://localhost:8080/",
          "height": 34
        },
        "outputId": "08fe6fc0-5fc6-4a7e-a75a-ff3133d00a86"
      },
      "source": [
        "hello()"
      ],
      "execution_count": null,
      "outputs": [
        {
          "output_type": "stream",
          "text": [
            "Helllo\n"
          ],
          "name": "stdout"
        }
      ]
    },
    {
      "cell_type": "code",
      "metadata": {
        "id": "0mrgLjXjha2y",
        "colab_type": "code",
        "colab": {}
      },
      "source": [
        "def media(a,b):\n",
        "  return (a+b)/2"
      ],
      "execution_count": null,
      "outputs": []
    },
    {
      "cell_type": "code",
      "metadata": {
        "id": "Hh1SE8EKh-Em",
        "colab_type": "code",
        "colab": {}
      },
      "source": [
        ""
      ],
      "execution_count": null,
      "outputs": []
    },
    {
      "cell_type": "code",
      "metadata": {
        "id": "LunRJMN3hr6O",
        "colab_type": "code",
        "colab": {
          "base_uri": "https://localhost:8080/",
          "height": 34
        },
        "outputId": "f575d790-7f40-47a2-a48e-f49d05d3b126"
      },
      "source": [
        "media(3,5)"
      ],
      "execution_count": null,
      "outputs": [
        {
          "output_type": "execute_result",
          "data": {
            "text/plain": [
              "4.0"
            ]
          },
          "metadata": {
            "tags": []
          },
          "execution_count": 136
        }
      ]
    },
    {
      "cell_type": "code",
      "metadata": {
        "id": "J8dZKTJ-iBm0",
        "colab_type": "code",
        "colab": {}
      },
      "source": [
        "def inverti_stringa(s):\n",
        "  return s[::-1]"
      ],
      "execution_count": null,
      "outputs": []
    },
    {
      "cell_type": "code",
      "metadata": {
        "id": "wvvYzstZiVOs",
        "colab_type": "code",
        "colab": {
          "base_uri": "https://localhost:8080/",
          "height": 35
        },
        "outputId": "7b86d323-34a0-4b0f-9969-6d1c3ade70a0"
      },
      "source": [
        "inverti_stringa('ciao')"
      ],
      "execution_count": null,
      "outputs": [
        {
          "output_type": "execute_result",
          "data": {
            "application/vnd.google.colaboratory.intrinsic": {
              "type": "string"
            },
            "text/plain": [
              "'oaic'"
            ]
          },
          "metadata": {
            "tags": []
          },
          "execution_count": 138
        }
      ]
    },
    {
      "cell_type": "code",
      "metadata": {
        "id": "w34O8bfzhvnH",
        "colab_type": "code",
        "colab": {}
      },
      "source": [
        "s=inverti_stringa('imani')"
      ],
      "execution_count": null,
      "outputs": []
    },
    {
      "cell_type": "code",
      "metadata": {
        "id": "ka1ao2YXiwbm",
        "colab_type": "code",
        "colab": {}
      },
      "source": [
        "def raddoppia(num):\n",
        "  return num*2"
      ],
      "execution_count": null,
      "outputs": []
    },
    {
      "cell_type": "code",
      "metadata": {
        "id": "0Tr3siY9i-jS",
        "colab_type": "code",
        "colab": {
          "base_uri": "https://localhost:8080/",
          "height": 34
        },
        "outputId": "534f716e-af07-4023-a5ba-8ba1c2682fbb"
      },
      "source": [
        "raddoppia(50)"
      ],
      "execution_count": null,
      "outputs": [
        {
          "output_type": "execute_result",
          "data": {
            "text/plain": [
              "100"
            ]
          },
          "metadata": {
            "tags": []
          },
          "execution_count": 141
        }
      ]
    },
    {
      "cell_type": "code",
      "metadata": {
        "id": "rfTqGQW9jDKh",
        "colab_type": "code",
        "colab": {}
      },
      "source": [
        "def quadrato(num):\n",
        "  return num**2"
      ],
      "execution_count": null,
      "outputs": []
    },
    {
      "cell_type": "code",
      "metadata": {
        "id": "G3pgmAYOjWUT",
        "colab_type": "code",
        "colab": {
          "base_uri": "https://localhost:8080/",
          "height": 34
        },
        "outputId": "8b47c1c3-60f2-4d9f-df29-81f080ac9d8f"
      },
      "source": [
        "quadrato= quadrato(3)\n",
        "quadrato"
      ],
      "execution_count": null,
      "outputs": [
        {
          "output_type": "execute_result",
          "data": {
            "text/plain": [
              "9"
            ]
          },
          "metadata": {
            "tags": []
          },
          "execution_count": 143
        }
      ]
    },
    {
      "cell_type": "code",
      "metadata": {
        "id": "-MV_rhcdjfwa",
        "colab_type": "code",
        "colab": {
          "base_uri": "https://localhost:8080/",
          "height": 35
        },
        "outputId": "304dced2-ed2f-423c-b7c8-6f36c58ce240"
      },
      "source": [
        "raddoppia('iman')"
      ],
      "execution_count": null,
      "outputs": [
        {
          "output_type": "execute_result",
          "data": {
            "application/vnd.google.colaboratory.intrinsic": {
              "type": "string"
            },
            "text/plain": [
              "'imaniman'"
            ]
          },
          "metadata": {
            "tags": []
          },
          "execution_count": 144
        }
      ]
    },
    {
      "cell_type": "code",
      "metadata": {
        "id": "G4qmYFdbl_NW",
        "colab_type": "code",
        "colab": {}
      },
      "source": [
        "lista=[1,2,3,4,5]"
      ],
      "execution_count": null,
      "outputs": []
    },
    {
      "cell_type": "code",
      "metadata": {
        "id": "gxV3mmAckVnl",
        "colab_type": "code",
        "colab": {
          "base_uri": "https://localhost:8080/",
          "height": 67
        },
        "outputId": "ba3cb6da-85a0-4e15-b9b6-1ac5bd574425"
      },
      "source": [
        "def azzera(lista):\n",
        "  i=0\n",
        "  while i < len(lista):\n",
        "    lista[i]=0\n",
        "    i+=1\n",
        "  print('per fine')\n",
        "print('fine')\n",
        "azzera(lista)\n",
        "lista"
      ],
      "execution_count": null,
      "outputs": [
        {
          "output_type": "stream",
          "text": [
            "fine\n",
            "per fine\n"
          ],
          "name": "stdout"
        },
        {
          "output_type": "execute_result",
          "data": {
            "text/plain": [
              "[0, 0, 0, 0, 0]"
            ]
          },
          "metadata": {
            "tags": []
          },
          "execution_count": 146
        }
      ]
    },
    {
      "cell_type": "code",
      "metadata": {
        "id": "bvb-SJ5KqSQP",
        "colab_type": "code",
        "colab": {
          "base_uri": "https://localhost:8080/",
          "height": 34
        },
        "outputId": "b3770620-50cb-4ed5-b6ea-d7da44f48aec"
      },
      "source": [
        "agenda={'mario a':0, 'Mario b':1, 3:'marioC'}\n",
        "risultato=[]\n",
        "for k, v in agenda.items():\n",
        "  if 'mario'.lower() in str(k).lower():\n",
        "    risultato.append(k)\n",
        "  elif 'mario'.lower() in str(v).lower():\n",
        "     risultato.append(v)\n",
        "print(risultato)"
      ],
      "execution_count": null,
      "outputs": [
        {
          "output_type": "stream",
          "text": [
            "['mario a', 'Mario b', 'marioC']\n"
          ],
          "name": "stdout"
        }
      ]
    },
    {
      "cell_type": "code",
      "metadata": {
        "id": "78ZaU4D8lp-K",
        "colab_type": "code",
        "colab": {}
      },
      "source": [
        ""
      ],
      "execution_count": null,
      "outputs": []
    },
    {
      "cell_type": "code",
      "metadata": {
        "id": "HChWWL0qqFpY",
        "colab_type": "code",
        "colab": {
          "base_uri": "https://localhost:8080/",
          "height": 34
        },
        "outputId": "c71e1bbb-d4f8-4b2c-c88f-03840edb336d"
      },
      "source": [
        "agenda={'mario a':0, 'Mario b':1, 3:'marioC'}\n",
        "risultato=[]\n",
        "for k, v in agenda.items():\n",
        "  if 'mario'.lower() in str(k).lower():\n",
        "    risultato.append(k)\n",
        "  elif 'mario'.lower() in str(v).lower():\n",
        "     risultato.append(v)\n",
        "print(risultato)"
      ],
      "execution_count": null,
      "outputs": [
        {
          "output_type": "stream",
          "text": [
            "['mario a', 'Mario b', 'marioC']\n"
          ],
          "name": "stdout"
        }
      ]
    },
    {
      "cell_type": "code",
      "metadata": {
        "id": "xI1ubpQoqi8Q",
        "colab_type": "code",
        "colab": {
          "base_uri": "https://localhost:8080/",
          "height": 34
        },
        "outputId": "525c451a-4fbc-4283-a698-31da62e1d8d4"
      },
      "source": [
        "agenda={'mario a':0, 'Mario b':1, 3:'marioC'}\n",
        "ricerca= 'mario'\n",
        "risultato=[]\n",
        "\n",
        "def trov_str1_in_lista(s1, s2):\n",
        "    i=0\n",
        "    stringa=s2\n",
        "    ricerca=s1\n",
        "    lungezza=len(ricerca)\n",
        "    trovata=False\n",
        "    while i +lungezza<len(stringa) and not trovata:\n",
        "      #print(stringa[i:i+lungezza].upper())\n",
        "      if(stringa[i:i+lungezza].upper()==ricerca.upper()):\n",
        "        trovata=True\n",
        "      i+=1\n",
        "    return trovata\n",
        "\n",
        "def seq_trov(agenda):\n",
        "     for k, v in agenda.items():\n",
        "        if trov_str1_in_lista(ricerca.lower(), str(k).lower()):\n",
        "                   risultato.append(k)\n",
        "        if trov_str1_in_lista(ricerca.lower(), str(v).lower()):\n",
        "                   risultato.append(v)\n",
        "     print(risultato)\n",
        "\n",
        "seq_trov(agenda)\n",
        "\n",
        "\n"
      ],
      "execution_count": null,
      "outputs": [
        {
          "output_type": "stream",
          "text": [
            "['mario a', 'Mario b', 'marioC']\n"
          ],
          "name": "stdout"
        }
      ]
    },
    {
      "cell_type": "code",
      "metadata": {
        "id": "y_r-oFdtsLhw",
        "colab_type": "code",
        "colab": {
          "base_uri": "https://localhost:8080/",
          "height": 1000
        },
        "outputId": "005ed82c-9210-4654-e4d9-4284f80bbd05"
      },
      "source": [
        "import random as rd\n",
        "\n",
        "i=1\n",
        "conteggi={}\n",
        "'''while i<91:\n",
        "  conteggi[i]=0\n",
        "  i+=1\n",
        "print(conteggi)\n",
        "'''\n",
        "i=0\n",
        "while i<50000:\n",
        "  numeroEstratto=(rd.randint(1,90))\n",
        "  if  not numeroEstratto in conteggi:\n",
        "      conteggi[numeroEstratto] =0\n",
        "  conteggi[numeroEstratto] = conteggi[numeroEstratto] + 1\n",
        "  i=i+1 \n",
        "\n",
        "  somma=0\n",
        "for k, v in conteggi.items():\n",
        "  print(k, v)\n",
        "  somma+=v\n",
        "print(somma)\n",
        "#print(conteggi)\n",
        "\n",
        "\n"
      ],
      "execution_count": null,
      "outputs": [
        {
          "output_type": "stream",
          "text": [
            "49 548\n",
            "67 606\n",
            "86 579\n",
            "54 547\n",
            "34 567\n",
            "4 517\n",
            "17 568\n",
            "62 610\n",
            "73 527\n",
            "28 511\n",
            "50 554\n",
            "84 583\n",
            "78 516\n",
            "42 579\n",
            "23 560\n",
            "59 542\n",
            "25 550\n",
            "53 527\n",
            "81 550\n",
            "37 510\n",
            "14 589\n",
            "2 540\n",
            "77 557\n",
            "8 594\n",
            "29 618\n",
            "69 532\n",
            "27 541\n",
            "21 573\n",
            "82 566\n",
            "46 537\n",
            "85 565\n",
            "89 557\n",
            "7 615\n",
            "88 543\n",
            "26 580\n",
            "9 573\n",
            "44 535\n",
            "24 567\n",
            "90 562\n",
            "43 534\n",
            "33 550\n",
            "71 530\n",
            "68 546\n",
            "76 519\n",
            "38 583\n",
            "36 587\n",
            "40 549\n",
            "32 539\n",
            "58 525\n",
            "10 550\n",
            "18 545\n",
            "56 543\n",
            "45 511\n",
            "6 564\n",
            "83 550\n",
            "61 581\n",
            "64 568\n",
            "55 578\n",
            "57 587\n",
            "75 577\n",
            "11 547\n",
            "80 548\n",
            "65 524\n",
            "19 587\n",
            "52 533\n",
            "63 576\n",
            "60 556\n",
            "39 513\n",
            "74 568\n",
            "12 544\n",
            "41 543\n",
            "22 570\n",
            "70 529\n",
            "51 564\n",
            "16 500\n",
            "15 655\n",
            "48 568\n",
            "1 548\n",
            "30 557\n",
            "13 518\n",
            "47 559\n",
            "66 601\n",
            "3 505\n",
            "35 590\n",
            "31 574\n",
            "87 568\n",
            "20 502\n",
            "79 537\n",
            "5 555\n",
            "72 550\n",
            "50000\n"
          ],
          "name": "stdout"
        }
      ]
    },
    {
      "cell_type": "code",
      "metadata": {
        "id": "debL0C2LsNzB",
        "colab_type": "code",
        "colab": {}
      },
      "source": [
        "def func1(val):\n",
        "  if val==0: \n",
        "    print(0)\n",
        "    #return None\n",
        "  else: return val*2"
      ],
      "execution_count": null,
      "outputs": []
    },
    {
      "cell_type": "code",
      "metadata": {
        "id": "LshNrZUAsswk",
        "colab_type": "code",
        "colab": {
          "base_uri": "https://localhost:8080/",
          "height": 34
        },
        "outputId": "129c9833-8b27-420c-97d1-fb65447cb8bf"
      },
      "source": [
        "valore=func1(0)"
      ],
      "execution_count": null,
      "outputs": [
        {
          "output_type": "stream",
          "text": [
            "0\n"
          ],
          "name": "stdout"
        }
      ]
    },
    {
      "cell_type": "code",
      "metadata": {
        "id": "HLdjhpXi_-lu",
        "colab_type": "code",
        "colab": {
          "base_uri": "https://localhost:8080/",
          "height": 34
        },
        "outputId": "954f05dc-b760-4f94-a504-8cc52791cc5c"
      },
      "source": [
        "type(valore)"
      ],
      "execution_count": null,
      "outputs": [
        {
          "output_type": "execute_result",
          "data": {
            "text/plain": [
              "NoneType"
            ]
          },
          "metadata": {
            "tags": []
          },
          "execution_count": 153
        }
      ]
    },
    {
      "cell_type": "code",
      "metadata": {
        "id": "FzCHobJMABlq",
        "colab_type": "code",
        "colab": {}
      },
      "source": [
        "valore"
      ],
      "execution_count": null,
      "outputs": []
    },
    {
      "cell_type": "code",
      "metadata": {
        "id": "u2wt5n0hAEOa",
        "colab_type": "code",
        "colab": {
          "base_uri": "https://localhost:8080/",
          "height": 34
        },
        "outputId": "faa3b9fa-adb0-43bb-9c5d-c6d9156dec9a"
      },
      "source": [
        "print(valore)"
      ],
      "execution_count": null,
      "outputs": [
        {
          "output_type": "stream",
          "text": [
            "None\n"
          ],
          "name": "stdout"
        }
      ]
    },
    {
      "cell_type": "code",
      "metadata": {
        "id": "KxeVCGetAG1S",
        "colab_type": "code",
        "colab": {
          "base_uri": "https://localhost:8080/",
          "height": 246
        },
        "outputId": "442e8514-41d8-4668-de78-7970fbeafc82"
      },
      "source": [
        "func1(None)"
      ],
      "execution_count": null,
      "outputs": [
        {
          "output_type": "error",
          "ename": "TypeError",
          "evalue": "ignored",
          "traceback": [
            "\u001b[0;31m---------------------------------------------------------------------------\u001b[0m",
            "\u001b[0;31mTypeError\u001b[0m                                 Traceback (most recent call last)",
            "\u001b[0;32m<ipython-input-156-f056f48f0c44>\u001b[0m in \u001b[0;36m<module>\u001b[0;34m()\u001b[0m\n\u001b[0;32m----> 1\u001b[0;31m \u001b[0mfunc1\u001b[0m\u001b[0;34m(\u001b[0m\u001b[0;32mNone\u001b[0m\u001b[0;34m)\u001b[0m\u001b[0;34m\u001b[0m\u001b[0;34m\u001b[0m\u001b[0m\n\u001b[0m",
            "\u001b[0;32m<ipython-input-151-3af403d681dd>\u001b[0m in \u001b[0;36mfunc1\u001b[0;34m(val)\u001b[0m\n\u001b[1;32m      3\u001b[0m     \u001b[0mprint\u001b[0m\u001b[0;34m(\u001b[0m\u001b[0;36m0\u001b[0m\u001b[0;34m)\u001b[0m\u001b[0;34m\u001b[0m\u001b[0;34m\u001b[0m\u001b[0m\n\u001b[1;32m      4\u001b[0m     \u001b[0;31m#return None\u001b[0m\u001b[0;34m\u001b[0m\u001b[0;34m\u001b[0m\u001b[0;34m\u001b[0m\u001b[0m\n\u001b[0;32m----> 5\u001b[0;31m   \u001b[0;32melse\u001b[0m\u001b[0;34m:\u001b[0m \u001b[0;32mreturn\u001b[0m \u001b[0mval\u001b[0m\u001b[0;34m*\u001b[0m\u001b[0;36m2\u001b[0m\u001b[0;34m\u001b[0m\u001b[0;34m\u001b[0m\u001b[0m\n\u001b[0m",
            "\u001b[0;31mTypeError\u001b[0m: unsupported operand type(s) for *: 'NoneType' and 'int'"
          ]
        }
      ]
    },
    {
      "cell_type": "markdown",
      "metadata": {
        "id": "TMBmn9iBJzam",
        "colab_type": "text"
      },
      "source": [
        "come si vede occorre passare gli argomenti non None"
      ]
    },
    {
      "cell_type": "code",
      "metadata": {
        "id": "SHbERu3HCvgy",
        "colab_type": "code",
        "colab": {}
      },
      "source": [
        "#Class and Object"
      ],
      "execution_count": null,
      "outputs": []
    },
    {
      "cell_type": "markdown",
      "metadata": {
        "id": "ZqF9vNheKBsj",
        "colab_type": "text"
      },
      "source": [
        ""
      ]
    },
    {
      "cell_type": "markdown",
      "metadata": {
        "id": "FcGfK7GHKR9f",
        "colab_type": "text"
      },
      "source": [
        "# Class and Object"
      ]
    },
    {
      "cell_type": "code",
      "metadata": {
        "id": "Iy_o3or4Mqq8",
        "colab_type": "code",
        "colab": {}
      },
      "source": [
        ""
      ],
      "execution_count": null,
      "outputs": []
    },
    {
      "cell_type": "markdown",
      "metadata": {
        "id": "Ih5WR6xSMtlh",
        "colab_type": "text"
      },
      "source": [
        "## create a class \n",
        "    name:Auto\n",
        "    parametrs:2\n",
        "KeyWords obbligatori:\n",
        "  `class`\n",
        "  `self`\n",
        "KeyWords Optionale:\n",
        "  `__init__`\n",
        "\n",
        "\n",
        "\n",
        "\n"
      ]
    },
    {
      "cell_type": "markdown",
      "metadata": {
        "id": "lDXYyobBMsG_",
        "colab_type": "text"
      },
      "source": [
        "`__init__` is a function for initialize\n",
        "***self*** is a KeyWord per assegnare i parametri all'*oggetto attuale*"
      ]
    },
    {
      "cell_type": "markdown",
      "metadata": {
        "id": "3b79V7_XP9wx",
        "colab_type": "text"
      },
      "source": [
        ""
      ]
    },
    {
      "cell_type": "code",
      "metadata": {
        "id": "dF1eYBwFKETC",
        "colab_type": "code",
        "colab": {}
      },
      "source": [
        "class Auto():\n",
        "  def __init__(self, marca, colore): #self:definisce oggetto attuale/variabile della istanza\n",
        "    self.marca=marca\n",
        "    self.colore=colore"
      ],
      "execution_count": null,
      "outputs": []
    },
    {
      "cell_type": "code",
      "metadata": {
        "id": "AYYO9V8TK_ah",
        "colab_type": "code",
        "colab": {}
      },
      "source": [
        "auto1=Auto(\"BMW\", \"rosso\") # ogg.1"
      ],
      "execution_count": null,
      "outputs": []
    },
    {
      "cell_type": "code",
      "metadata": {
        "id": "SmLZvpp8LLqX",
        "colab_type": "code",
        "colab": {}
      },
      "source": [
        "type(auto1)"
      ],
      "execution_count": null,
      "outputs": []
    },
    {
      "cell_type": "code",
      "metadata": {
        "id": "31Gf2BfYLOLJ",
        "colab_type": "code",
        "colab": {}
      },
      "source": [
        "auto2=Auto(\"Mercedes\", \"Black\") # ogg.2"
      ],
      "execution_count": null,
      "outputs": []
    },
    {
      "cell_type": "code",
      "metadata": {
        "id": "ieGlqU2YLh4W",
        "colab_type": "code",
        "colab": {}
      },
      "source": [
        "auto1.marca # access: object of Class with DotNotation"
      ],
      "execution_count": null,
      "outputs": []
    },
    {
      "cell_type": "code",
      "metadata": {
        "id": "fBz5rhXGLvuL",
        "colab_type": "code",
        "colab": {}
      },
      "source": [
        "auto2.colore  # access: object of Class with DotNotation"
      ],
      "execution_count": null,
      "outputs": []
    },
    {
      "cell_type": "code",
      "metadata": {
        "id": "gR2Nqum3L89J",
        "colab_type": "code",
        "colab": {}
      },
      "source": [
        ""
      ],
      "execution_count": null,
      "outputs": []
    },
    {
      "cell_type": "markdown",
      "metadata": {
        "id": "lMtOYr2xQBEd",
        "colab_type": "text"
      },
      "source": [
        "##create a class\n",
        "  name:Aereo\n",
        "  parameters:2"
      ]
    },
    {
      "cell_type": "code",
      "metadata": {
        "id": "2OK6igO1QQqD",
        "colab_type": "code",
        "colab": {}
      },
      "source": [
        "class Aereo():\n",
        "  def init(self, posti, model):\n",
        "    self.posti=posti\n",
        "    self.model=model"
      ],
      "execution_count": null,
      "outputs": []
    },
    {
      "cell_type": "code",
      "metadata": {
        "id": "yYCUEEWlQqX8",
        "colab_type": "code",
        "colab": {}
      },
      "source": [
        "aereo1=Aereo()"
      ],
      "execution_count": null,
      "outputs": []
    },
    {
      "cell_type": "code",
      "metadata": {
        "id": "ZyZ4AzovQwO0",
        "colab_type": "code",
        "colab": {}
      },
      "source": [
        "aereo1.posti"
      ],
      "execution_count": null,
      "outputs": []
    },
    {
      "cell_type": "markdown",
      "metadata": {
        "id": "XcJ4CpRuRRKh",
        "colab_type": "text"
      },
      "source": [
        "--come si vede senza __init__ non si passa parametri al momento di creare dell'oggetto e non riconosce ancora attributo per l'oggetto istanziato"
      ]
    },
    {
      "cell_type": "code",
      "metadata": {
        "id": "adJoKUGeQ-eb",
        "colab_type": "code",
        "colab": {}
      },
      "source": [
        "aereo1.init(200, 'Airbus') "
      ],
      "execution_count": null,
      "outputs": []
    },
    {
      "cell_type": "markdown",
      "metadata": {
        "id": "kdh_IhjJRvtn",
        "colab_type": "text"
      },
      "source": [
        "--ora abbiamo definito gli attributi per l'oggetto e possiamo usarli"
      ]
    },
    {
      "cell_type": "code",
      "metadata": {
        "id": "8L5AVflFRK5B",
        "colab_type": "code",
        "colab": {}
      },
      "source": [
        "aereo1.posti"
      ],
      "execution_count": null,
      "outputs": []
    },
    {
      "cell_type": "code",
      "metadata": {
        "id": "sCk2eR9oRNeW",
        "colab_type": "code",
        "colab": {}
      },
      "source": [
        "class ContoBancario():\n",
        "  def __init__(self, iban):\n",
        "    self.iban=iban"
      ],
      "execution_count": null,
      "outputs": []
    },
    {
      "cell_type": "code",
      "metadata": {
        "id": "71PDMLyMSTP8",
        "colab_type": "code",
        "colab": {}
      },
      "source": [
        "class Banca():\n",
        "  def __init__(self):\n",
        "    self.conti=[]\n",
        "  def apertura_conto(self, conto):\n",
        "      self.conti.append(conto)\n",
        "  def conti(self):\n",
        "        return self.conti"
      ],
      "execution_count": null,
      "outputs": []
    },
    {
      "cell_type": "code",
      "metadata": {
        "id": "mmHfNGckSp-G",
        "colab_type": "code",
        "colab": {}
      },
      "source": [
        "conto=ContoBancario('it1')"
      ],
      "execution_count": null,
      "outputs": []
    },
    {
      "cell_type": "code",
      "metadata": {
        "id": "_lY5pdD9Svx0",
        "colab_type": "code",
        "colab": {}
      },
      "source": [
        "conto2=ContoBancario('it2')"
      ],
      "execution_count": null,
      "outputs": []
    },
    {
      "cell_type": "code",
      "metadata": {
        "id": "kUNexrHjS03n",
        "colab_type": "code",
        "colab": {}
      },
      "source": [
        "banca=Banca()"
      ],
      "execution_count": null,
      "outputs": []
    },
    {
      "cell_type": "code",
      "metadata": {
        "id": "C8tvut_vS87v",
        "colab_type": "code",
        "colab": {}
      },
      "source": [
        "banca.apertura_conto(conto)\n",
        "banca.apertura_conto(conto2)"
      ],
      "execution_count": null,
      "outputs": []
    },
    {
      "cell_type": "code",
      "metadata": {
        "id": "0BNnh8QdTC9W",
        "colab_type": "code",
        "colab": {}
      },
      "source": [
        "banca.conti"
      ],
      "execution_count": null,
      "outputs": []
    },
    {
      "cell_type": "code",
      "metadata": {
        "id": "kzr_GYj5VHjW",
        "colab_type": "code",
        "colab": {}
      },
      "source": [
        "class Banca():\n",
        "  def __init__(self, indirizzo, conti):\n",
        "    self.conti=conti\n",
        "    self.indirizzo=indirizzo\n",
        "  def apertura_conto(self, conto):\n",
        "      self.conti.append(conto)\n",
        "  def conti(self):\n",
        "        return self.conti"
      ],
      "execution_count": null,
      "outputs": []
    },
    {
      "cell_type": "code",
      "metadata": {
        "id": "mupDEN6IXtIL",
        "colab_type": "code",
        "colab": {}
      },
      "source": [
        "class ContoBancario():\n",
        "  def __init__(self, iban, saldo):\n",
        "    self.iban=iban\n",
        "    self.saldo=saldo\n",
        "  def preleva(self, somma):\n",
        "    self.saldo=self.saldo-somma"
      ],
      "execution_count": null,
      "outputs": []
    },
    {
      "cell_type": "code",
      "metadata": {
        "id": "ZY_T8jG6Xww2",
        "colab_type": "code",
        "colab": {}
      },
      "source": [
        "conto1=ContoBancario('it1', 5000)\n",
        "conto2=ContoBancario('it2', 10000)"
      ],
      "execution_count": null,
      "outputs": []
    },
    {
      "cell_type": "code",
      "metadata": {
        "id": "yf1shVw9YgFO",
        "colab_type": "code",
        "colab": {}
      },
      "source": [
        "banca=Banca('via dagnini', [])"
      ],
      "execution_count": null,
      "outputs": []
    },
    {
      "cell_type": "code",
      "metadata": {
        "id": "8_bUfMewYrHb",
        "colab_type": "code",
        "colab": {
          "base_uri": "https://localhost:8080/",
          "height": 34
        },
        "outputId": "486ca2e0-29fa-4c69-94e3-47efbab8c2fc"
      },
      "source": [
        "banca.conti"
      ],
      "execution_count": null,
      "outputs": [
        {
          "output_type": "execute_result",
          "data": {
            "text/plain": [
              "[]"
            ]
          },
          "metadata": {
            "tags": []
          },
          "execution_count": 175
        }
      ]
    },
    {
      "cell_type": "code",
      "metadata": {
        "id": "3rOZJRUOYvVZ",
        "colab_type": "code",
        "colab": {}
      },
      "source": [
        "banca.apertura_conto(conto1)"
      ],
      "execution_count": null,
      "outputs": []
    },
    {
      "cell_type": "code",
      "metadata": {
        "id": "FmnfUj9AY7Ds",
        "colab_type": "code",
        "colab": {}
      },
      "source": [
        "banca.apertura_conto(conto2)"
      ],
      "execution_count": null,
      "outputs": []
    },
    {
      "cell_type": "code",
      "metadata": {
        "id": "XUG3JyD-Y95I",
        "colab_type": "code",
        "colab": {
          "base_uri": "https://localhost:8080/",
          "height": 34
        },
        "outputId": "aea80c9d-1601-4070-de9a-1fa970664eb4"
      },
      "source": [
        "banca.conti[0].saldo"
      ],
      "execution_count": null,
      "outputs": [
        {
          "output_type": "execute_result",
          "data": {
            "text/plain": [
              "5000"
            ]
          },
          "metadata": {
            "tags": []
          },
          "execution_count": 178
        }
      ]
    },
    {
      "cell_type": "code",
      "metadata": {
        "id": "SQAHMGtfaVJA",
        "colab_type": "code",
        "colab": {
          "base_uri": "https://localhost:8080/",
          "height": 34
        },
        "outputId": "f64c83db-fa5e-4ec4-ad5b-275a87feea2b"
      },
      "source": [
        "conto2.saldo"
      ],
      "execution_count": null,
      "outputs": [
        {
          "output_type": "execute_result",
          "data": {
            "text/plain": [
              "10000"
            ]
          },
          "metadata": {
            "tags": []
          },
          "execution_count": 179
        }
      ]
    },
    {
      "cell_type": "code",
      "metadata": {
        "id": "9LePYnhCZEOJ",
        "colab_type": "code",
        "colab": {
          "base_uri": "https://localhost:8080/",
          "height": 34
        },
        "outputId": "ea98cbdd-c096-4558-8ebf-6e675d610e41"
      },
      "source": [
        "conto2.preleva(1200)\n",
        "conto2.saldo"
      ],
      "execution_count": null,
      "outputs": [
        {
          "output_type": "execute_result",
          "data": {
            "text/plain": [
              "8800"
            ]
          },
          "metadata": {
            "tags": []
          },
          "execution_count": 180
        }
      ]
    },
    {
      "cell_type": "code",
      "metadata": {
        "id": "763g60YbZal-",
        "colab_type": "code",
        "colab": {}
      },
      "source": [
        ""
      ],
      "execution_count": null,
      "outputs": []
    }
  ]
}