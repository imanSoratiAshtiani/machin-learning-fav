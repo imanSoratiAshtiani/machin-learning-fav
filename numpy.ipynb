{
  "nbformat": 4,
  "nbformat_minor": 0,
  "metadata": {
    "colab": {
      "name": "Copy of 03_intro.ipynb",
      "provenance": [],
      "collapsed_sections": [],
      "include_colab_link": true
    },
    "kernelspec": {
      "display_name": "Python 3.6.9 64-bit ('env': virtualenv)",
      "language": "python",
      "name": "python36964bitenvvirtualenv07dcaa16c3e14140805435db9416e568"
    },
    "language_info": {
      "codemirror_mode": {
        "name": "ipython",
        "version": 3
      },
      "file_extension": ".py",
      "mimetype": "text/x-python",
      "name": "python",
      "nbconvert_exporter": "python",
      "pygments_lexer": "ipython3",
      "version": "3.6.9"
    }
  },
  "cells": [
    {
      "cell_type": "markdown",
      "metadata": {
        "id": "view-in-github",
        "colab_type": "text"
      },
      "source": [
        "<a href=\"https://colab.research.google.com/github/imanSoratiAshtiani/machin-learning-fav/blob/master/numpy.ipynb\" target=\"_parent\"><img src=\"https://colab.research.google.com/assets/colab-badge.svg\" alt=\"Open In Colab\"/></a>"
      ]
    },
    {
      "cell_type": "markdown",
      "metadata": {
        "id": "ZTAcKQNtJNgV",
        "colab_type": "text"
      },
      "source": [
        "<a href=\"https://colab.research.google.com/github/visiont3lab/tecnologie_data_science/blob/master/book/docs/python/numpy.ipynb\" target=\"_parent\"><img src=\"https://colab.research.google.com/assets/colab-badge.svg\" alt=\"Open In Colab\"/></a>"
      ]
    },
    {
      "cell_type": "markdown",
      "metadata": {
        "colab_type": "text",
        "id": "EL5x4EOKO83H"
      },
      "source": [
        "# Numpy"
      ]
    },
    {
      "cell_type": "code",
      "metadata": {
        "colab_type": "code",
        "id": "rl1JBrOMOwPq",
        "colab": {}
      },
      "source": [
        "import numpy as np"
      ],
      "execution_count": null,
      "outputs": []
    },
    {
      "cell_type": "markdown",
      "metadata": {
        "colab_type": "text",
        "id": "7tUFKhLoPgcV"
      },
      "source": [
        "An array object represents a multidimensional, homogeneous array of fixed-size items"
      ]
    },
    {
      "cell_type": "code",
      "metadata": {
        "colab_type": "code",
        "id": "Au-6VqLfOwMQ",
        "colab": {
          "base_uri": "https://localhost:8080/",
          "height": 34
        },
        "outputId": "9b25fd46-d76c-4d2c-929c-752712c52c21"
      },
      "source": [
        "country = np.array(['USA', 'Japan', 'UK', 'Celestopoli', 'India', 'China'])\n",
        "print(country)"
      ],
      "execution_count": null,
      "outputs": [
        {
          "output_type": "stream",
          "text": [
            "['USA' 'Japan' 'UK' 'Celestopoli' 'India' 'China']\n"
          ],
          "name": "stdout"
        }
      ]
    },
    {
      "cell_type": "markdown",
      "metadata": {
        "colab_type": "text",
        "id": "08Sk1tNMOu3h"
      },
      "source": [
        "When you make numpy array using np.array than it would create a copy of the object array and would not reflect changes to the original array (with default parameters). On the other hand if you use np.asarray() than it would reflect changes to the original array.\n",
        "\n"
      ]
    },
    {
      "cell_type": "code",
      "metadata": {
        "colab_type": "code",
        "id": "YNj3RsPqOupy",
        "colab": {}
      },
      "source": [
        "x = np.array([2,3,1,0])"
      ],
      "execution_count": null,
      "outputs": []
    },
    {
      "cell_type": "code",
      "metadata": {
        "colab_type": "code",
        "id": "OByLByscPTaK",
        "colab": {
          "base_uri": "https://localhost:8080/",
          "height": 34
        },
        "outputId": "d8f10b8c-cd81-433a-9dc2-8b0760ccbf24"
      },
      "source": [
        "x"
      ],
      "execution_count": null,
      "outputs": [
        {
          "output_type": "execute_result",
          "data": {
            "text/plain": [
              "array([2, 3, 1, 0])"
            ]
          },
          "metadata": {
            "tags": []
          },
          "execution_count": 11
        }
      ]
    },
    {
      "cell_type": "code",
      "metadata": {
        "colab_type": "code",
        "id": "th_lDhgVOunW",
        "colab": {
          "base_uri": "https://localhost:8080/",
          "height": 34
        },
        "outputId": "7d2ddd8d-7def-4505-8eda-7d4176075e9c"
      },
      "source": [
        "x.shape"
      ],
      "execution_count": null,
      "outputs": [
        {
          "output_type": "execute_result",
          "data": {
            "text/plain": [
              "(4,)"
            ]
          },
          "metadata": {
            "tags": []
          },
          "execution_count": 10
        }
      ]
    },
    {
      "cell_type": "code",
      "metadata": {
        "colab_type": "code",
        "id": "ccadV7obOulz",
        "colab": {}
      },
      "source": [
        "y = np.asarray([4,5,3,1])"
      ],
      "execution_count": null,
      "outputs": []
    },
    {
      "cell_type": "code",
      "metadata": {
        "colab_type": "code",
        "id": "YlR7-LYiOujJ",
        "colab": {
          "base_uri": "https://localhost:8080/",
          "height": 34
        },
        "outputId": "5cfad3d5-402b-491a-8dc0-1953fa207b58"
      },
      "source": [
        "y"
      ],
      "execution_count": null,
      "outputs": [
        {
          "output_type": "execute_result",
          "data": {
            "text/plain": [
              "array([4, 5, 3, 1])"
            ]
          },
          "metadata": {
            "tags": []
          },
          "execution_count": 8
        }
      ]
    },
    {
      "cell_type": "code",
      "metadata": {
        "colab_type": "code",
        "id": "8h_oURLgOugi",
        "colab": {
          "base_uri": "https://localhost:8080/",
          "height": 34
        },
        "outputId": "a1494f1d-542e-406c-c9b5-bec737feb8dc"
      },
      "source": [
        "type(x)"
      ],
      "execution_count": null,
      "outputs": [
        {
          "output_type": "execute_result",
          "data": {
            "text/plain": [
              "numpy.ndarray"
            ]
          },
          "metadata": {
            "tags": []
          },
          "execution_count": 12
        }
      ]
    },
    {
      "cell_type": "code",
      "metadata": {
        "colab_type": "code",
        "id": "TF9QLCABOueb",
        "colab": {
          "base_uri": "https://localhost:8080/",
          "height": 34
        },
        "outputId": "60449902-d401-4495-f96a-ee01959b7690"
      },
      "source": [
        "y = np.array([[2,3,1,0],[1,1,1,1]])\n",
        "y.shape"
      ],
      "execution_count": null,
      "outputs": [
        {
          "output_type": "execute_result",
          "data": {
            "text/plain": [
              "(2, 4)"
            ]
          },
          "metadata": {
            "tags": []
          },
          "execution_count": 13
        }
      ]
    },
    {
      "cell_type": "code",
      "metadata": {
        "colab_type": "code",
        "id": "wFupzE1rOucF",
        "colab": {
          "base_uri": "https://localhost:8080/",
          "height": 51
        },
        "outputId": "bea5e9e7-5ada-4791-eed7-ce2eb46a55fa"
      },
      "source": [
        "np.zeros((2, 3))"
      ],
      "execution_count": null,
      "outputs": [
        {
          "output_type": "execute_result",
          "data": {
            "text/plain": [
              "array([[0., 0., 0.],\n",
              "       [0., 0., 0.]])"
            ]
          },
          "metadata": {
            "tags": []
          },
          "execution_count": 14
        }
      ]
    },
    {
      "cell_type": "code",
      "metadata": {
        "colab_type": "code",
        "id": "X28Vq7LDOuZx",
        "colab": {
          "base_uri": "https://localhost:8080/",
          "height": 51
        },
        "outputId": "0a6ff91c-b74b-427f-bee7-92857fb2199a"
      },
      "source": [
        "k =np.ones((2, 3))\n",
        "k"
      ],
      "execution_count": null,
      "outputs": [
        {
          "output_type": "execute_result",
          "data": {
            "text/plain": [
              "array([[1., 1., 1.],\n",
              "       [1., 1., 1.]])"
            ]
          },
          "metadata": {
            "tags": []
          },
          "execution_count": 15
        }
      ]
    },
    {
      "cell_type": "code",
      "metadata": {
        "colab_type": "code",
        "id": "SfGGArm4OuXX",
        "colab": {
          "base_uri": "https://localhost:8080/",
          "height": 34
        },
        "outputId": "88d65468-738d-43ef-d243-4a90e0176f90"
      },
      "source": [
        "k.shape"
      ],
      "execution_count": null,
      "outputs": [
        {
          "output_type": "execute_result",
          "data": {
            "text/plain": [
              "(2, 3)"
            ]
          },
          "metadata": {
            "tags": []
          },
          "execution_count": 16
        }
      ]
    },
    {
      "cell_type": "code",
      "metadata": {
        "colab_type": "code",
        "id": "aYLaxl4VOuTK",
        "colab": {
          "base_uri": "https://localhost:8080/",
          "height": 34
        },
        "outputId": "6821243a-94da-4fab-f946-c18c423e7a46"
      },
      "source": [
        "np.arange(10)"
      ],
      "execution_count": null,
      "outputs": [
        {
          "output_type": "execute_result",
          "data": {
            "text/plain": [
              "array([0, 1, 2, 3, 4, 5, 6, 7, 8, 9])"
            ]
          },
          "metadata": {
            "tags": []
          },
          "execution_count": 18
        }
      ]
    },
    {
      "cell_type": "code",
      "metadata": {
        "colab_type": "code",
        "id": "y9FHJS65OuQN",
        "colab": {
          "base_uri": "https://localhost:8080/",
          "height": 34
        },
        "outputId": "fbcb3007-bda0-4785-b64c-0bab32474a0e"
      },
      "source": [
        "np.arange(2, 10, dtype=float) # default strp=1"
      ],
      "execution_count": null,
      "outputs": [
        {
          "output_type": "execute_result",
          "data": {
            "text/plain": [
              "array([2., 3., 4., 5., 6., 7., 8., 9.])"
            ]
          },
          "metadata": {
            "tags": []
          },
          "execution_count": 19
        }
      ]
    },
    {
      "cell_type": "code",
      "metadata": {
        "colab_type": "code",
        "id": "7KJ6_9HJOuOk",
        "colab": {
          "base_uri": "https://localhost:8080/",
          "height": 51
        },
        "outputId": "0b4dedb1-614d-44b5-8f2a-6ec7cfb6ff99"
      },
      "source": [
        "np.linspace(1., 4.,num=10)"
      ],
      "execution_count": null,
      "outputs": [
        {
          "output_type": "execute_result",
          "data": {
            "text/plain": [
              "array([1.        , 1.33333333, 1.66666667, 2.        , 2.33333333,\n",
              "       2.66666667, 3.        , 3.33333333, 3.66666667, 4.        ])"
            ]
          },
          "metadata": {
            "tags": []
          },
          "execution_count": 26
        }
      ]
    },
    {
      "cell_type": "code",
      "metadata": {
        "colab_type": "code",
        "id": "8X5A5Pj0OuLq",
        "colab": {
          "base_uri": "https://localhost:8080/",
          "height": 51
        },
        "outputId": "3e60463f-d2f7-4b95-babb-c6b333049ef1"
      },
      "source": [
        "np.linspace(1., 4.,10)"
      ],
      "execution_count": null,
      "outputs": [
        {
          "output_type": "execute_result",
          "data": {
            "text/plain": [
              "array([1.        , 1.33333333, 1.66666667, 2.        , 2.33333333,\n",
              "       2.66666667, 3.        , 3.33333333, 3.66666667, 4.        ])"
            ]
          },
          "metadata": {
            "tags": []
          },
          "execution_count": 27
        }
      ]
    },
    {
      "cell_type": "code",
      "metadata": {
        "colab_type": "code",
        "id": "q_z1G2gAOuJd",
        "colab": {}
      },
      "source": [
        "x = np.array([3, 6, 9, 12])"
      ],
      "execution_count": null,
      "outputs": []
    },
    {
      "cell_type": "code",
      "metadata": {
        "colab_type": "code",
        "id": "At6xpes-OuEB",
        "colab": {
          "base_uri": "https://localhost:8080/",
          "height": 34
        },
        "outputId": "661dec8e-18ce-4a1c-8ac3-ad2213cdcf0e"
      },
      "source": [
        "x/3.0\n",
        "x"
      ],
      "execution_count": null,
      "outputs": [
        {
          "output_type": "execute_result",
          "data": {
            "text/plain": [
              "array([ 3,  6,  9, 12])"
            ]
          },
          "metadata": {
            "tags": []
          },
          "execution_count": 29
        }
      ]
    },
    {
      "cell_type": "code",
      "metadata": {
        "colab_type": "code",
        "id": "6lYADstuOt6C",
        "colab": {
          "base_uri": "https://localhost:8080/",
          "height": 34
        },
        "outputId": "a73ac86b-62a2-4282-ca96-6e7bcc16c874"
      },
      "source": [
        "print(x)"
      ],
      "execution_count": null,
      "outputs": [
        {
          "output_type": "stream",
          "text": [
            "[ 3  6  9 12]\n"
          ],
          "name": "stdout"
        }
      ]
    },
    {
      "cell_type": "code",
      "metadata": {
        "colab_type": "code",
        "id": "D79yFwpnOt0x",
        "colab": {}
      },
      "source": [
        "z = np.array([2,3,1,0])"
      ],
      "execution_count": null,
      "outputs": []
    },
    {
      "cell_type": "code",
      "metadata": {
        "colab_type": "code",
        "id": "7YE04QkWQX8O",
        "colab": {
          "base_uri": "https://localhost:8080/",
          "height": 34
        },
        "outputId": "ce96c8b3-026a-4c8a-d8b2-94eb4a9e804f"
      },
      "source": [
        "np.sort(z)"
      ],
      "execution_count": null,
      "outputs": [
        {
          "output_type": "execute_result",
          "data": {
            "text/plain": [
              "array([0, 1, 2, 3])"
            ]
          },
          "metadata": {
            "tags": []
          },
          "execution_count": 32
        }
      ]
    },
    {
      "cell_type": "code",
      "metadata": {
        "colab_type": "code",
        "id": "j2t6ZWPgQX4r",
        "colab": {}
      },
      "source": [
        "a = np.array([[1, 2, 3], [4, 5, 6]])\n",
        "b = np.array([[9, 8, 7], [6, 5, 4]])"
      ],
      "execution_count": null,
      "outputs": []
    },
    {
      "cell_type": "code",
      "metadata": {
        "colab_type": "code",
        "id": "ieZI9-QSQX3J",
        "colab": {
          "base_uri": "https://localhost:8080/",
          "height": 85
        },
        "outputId": "5122dfa0-2372-488c-c589-ac1a499a4d0e"
      },
      "source": [
        "c = np.concatenate((a, b))\n",
        "c"
      ],
      "execution_count": null,
      "outputs": [
        {
          "output_type": "execute_result",
          "data": {
            "text/plain": [
              "array([[1, 2, 3],\n",
              "       [4, 5, 6],\n",
              "       [9, 8, 7],\n",
              "       [6, 5, 4]])"
            ]
          },
          "metadata": {
            "tags": []
          },
          "execution_count": 34
        }
      ]
    },
    {
      "cell_type": "code",
      "metadata": {
        "colab_type": "code",
        "id": "rZ155Lm0QXz2",
        "colab": {
          "base_uri": "https://localhost:8080/",
          "height": 34
        },
        "outputId": "fb1e1fe4-8d34-4022-e58c-7d0c69b594c1"
      },
      "source": [
        "c.shape"
      ],
      "execution_count": null,
      "outputs": [
        {
          "output_type": "execute_result",
          "data": {
            "text/plain": [
              "(4, 3)"
            ]
          },
          "metadata": {
            "tags": []
          },
          "execution_count": 35
        }
      ]
    },
    {
      "cell_type": "code",
      "metadata": {
        "colab_type": "code",
        "id": "TITcACTpQXxm",
        "colab": {
          "base_uri": "https://localhost:8080/",
          "height": 51
        },
        "outputId": "a65e6a0c-2629-4c3f-d356-7bc6a27a1333"
      },
      "source": [
        "np.ones((2, 2), dtype=bool)"
      ],
      "execution_count": null,
      "outputs": [
        {
          "output_type": "execute_result",
          "data": {
            "text/plain": [
              "array([[ True,  True],\n",
              "       [ True,  True]])"
            ]
          },
          "metadata": {
            "tags": []
          },
          "execution_count": 36
        }
      ]
    },
    {
      "cell_type": "code",
      "metadata": {
        "colab_type": "code",
        "id": "mSlfuZtuQXu_",
        "colab": {
          "base_uri": "https://localhost:8080/",
          "height": 34
        },
        "outputId": "800918bb-6e32-45b2-e27e-0ecf6cade8e0"
      },
      "source": [
        "## Conversion to an array:\n",
        "\n",
        "import numpy as np\n",
        "\n",
        "# from list\n",
        "my_list = [1, 2, 3, 4, 5, 6, 7, 8]\n",
        "\n",
        "my_list = np.asarray(my_list)\n",
        "#type(my_list)\n",
        "my_list"
      ],
      "execution_count": null,
      "outputs": [
        {
          "output_type": "execute_result",
          "data": {
            "text/plain": [
              "array([1, 2, 3, 4, 5, 6, 7, 8])"
            ]
          },
          "metadata": {
            "tags": []
          },
          "execution_count": 39
        }
      ]
    },
    {
      "cell_type": "code",
      "metadata": {
        "colab_type": "code",
        "id": "BBDNDkRtQXsk",
        "colab": {
          "base_uri": "https://localhost:8080/",
          "height": 34
        },
        "outputId": "9a43b7da-b536-47c3-8be6-288a9ff55f2c"
      },
      "source": [
        "# from tuple\n",
        "my_tuple = ([8, 4, 6], [1, 2, 3])\n",
        "type(my_tuple)"
      ],
      "execution_count": null,
      "outputs": [
        {
          "output_type": "execute_result",
          "data": {
            "text/plain": [
              "tuple"
            ]
          },
          "metadata": {
            "tags": []
          },
          "execution_count": 40
        }
      ]
    },
    {
      "cell_type": "code",
      "metadata": {
        "colab_type": "code",
        "id": "wqAxmG5SQXqs",
        "colab": {
          "base_uri": "https://localhost:8080/",
          "height": 51
        },
        "outputId": "176c7a31-8076-4fe6-e8e2-11ef145dbd57"
      },
      "source": [
        "my_tuple = np.asarray(my_tuple)\n",
        "my_tuple"
      ],
      "execution_count": null,
      "outputs": [
        {
          "output_type": "execute_result",
          "data": {
            "text/plain": [
              "array([[8, 4, 6],\n",
              "       [1, 2, 3]])"
            ]
          },
          "metadata": {
            "tags": []
          },
          "execution_count": 41
        }
      ]
    },
    {
      "cell_type": "code",
      "metadata": {
        "colab_type": "code",
        "id": "rTV9CV3FTLae",
        "colab": {
          "base_uri": "https://localhost:8080/",
          "height": 34
        },
        "outputId": "3efe68b1-a861-4aba-def7-faaffdea1337"
      },
      "source": [
        "#Array to list\n",
        "a = np.array([1, 2, 3, 4, 5])\n",
        "\n",
        "b = a.tolist()\n",
        "b"
      ],
      "execution_count": null,
      "outputs": [
        {
          "output_type": "execute_result",
          "data": {
            "text/plain": [
              "[1, 2, 3, 4, 5]"
            ]
          },
          "metadata": {
            "tags": []
          },
          "execution_count": 65
        }
      ]
    },
    {
      "cell_type": "code",
      "metadata": {
        "colab_type": "code",
        "id": "AqoF1D8tTPbe",
        "colab": {}
      },
      "source": [
        "#save array to drive\n",
        "a = np.array([1, 2, 3, 4, 5])\n",
        "\n",
        "np.savetxt(\"il_mio_array.csv\", a)"
      ],
      "execution_count": null,
      "outputs": []
    },
    {
      "cell_type": "code",
      "metadata": {
        "colab_type": "code",
        "id": "ccH03XybTPYC",
        "colab": {}
      },
      "source": [
        "# il filse csv deve essere sul drive\n",
        "from google.colab import files\n",
        "files.download(\"il_mio_array.csv\")"
      ],
      "execution_count": null,
      "outputs": []
    },
    {
      "cell_type": "code",
      "metadata": {
        "colab_type": "code",
        "id": "XpoOO6RfQXpb",
        "colab": {}
      },
      "source": [
        "#######################################################"
      ],
      "execution_count": null,
      "outputs": []
    },
    {
      "cell_type": "code",
      "metadata": {
        "colab_type": "code",
        "id": "y6pTK3_WQXmI",
        "colab": {
          "base_uri": "https://localhost:8080/",
          "height": 34
        },
        "outputId": "12eee9ee-cc27-4f71-e6f6-89e971b15ba0"
      },
      "source": [
        "a = np.array([1,2,3])\n",
        "a"
      ],
      "execution_count": null,
      "outputs": [
        {
          "output_type": "execute_result",
          "data": {
            "text/plain": [
              "array([1, 2, 3])"
            ]
          },
          "metadata": {
            "tags": []
          },
          "execution_count": 42
        }
      ]
    },
    {
      "cell_type": "code",
      "metadata": {
        "colab_type": "code",
        "id": "0EL_fH1cQXjT",
        "colab": {
          "base_uri": "https://localhost:8080/",
          "height": 34
        },
        "outputId": "ada75bb7-704a-43d9-bb2b-623fb7ab5c24"
      },
      "source": [
        "b =np.append(a,[10,11,12,13])\n",
        "b"
      ],
      "execution_count": null,
      "outputs": [
        {
          "output_type": "execute_result",
          "data": {
            "text/plain": [
              "array([ 1,  2,  3, 10, 11, 12, 13])"
            ]
          },
          "metadata": {
            "tags": []
          },
          "execution_count": 43
        }
      ]
    },
    {
      "cell_type": "code",
      "metadata": {
        "colab_type": "code",
        "id": "f3_X8PY7QXgw",
        "colab": {
          "base_uri": "https://localhost:8080/",
          "height": 34
        },
        "outputId": "935b146d-6ebd-4852-a145-1b9cc90ab3b6"
      },
      "source": [
        "a = np.array([1,2,3])\n",
        "b = np.array([1,2,3])\n",
        "c = a+b\n",
        "c"
      ],
      "execution_count": null,
      "outputs": [
        {
          "output_type": "execute_result",
          "data": {
            "text/plain": [
              "array([2, 4, 6])"
            ]
          },
          "metadata": {
            "tags": []
          },
          "execution_count": 44
        }
      ]
    },
    {
      "cell_type": "code",
      "metadata": {
        "colab_type": "code",
        "id": "oK0kJIasOtyE",
        "colab": {
          "base_uri": "https://localhost:8080/",
          "height": 34
        },
        "outputId": "1bf29cfa-fa38-422e-d5aa-51cd95d96494"
      },
      "source": [
        "a = np.array([[1,2,3],[4,5,6]])\n",
        "b = np.array([[400], [800]])\n",
        "\n",
        "c = np.append(a, b)\n",
        "c"
      ],
      "execution_count": null,
      "outputs": [
        {
          "output_type": "execute_result",
          "data": {
            "text/plain": [
              "array([  1,   2,   3,   4,   5,   6, 400, 800])"
            ]
          },
          "metadata": {
            "tags": []
          },
          "execution_count": 45
        }
      ]
    },
    {
      "cell_type": "code",
      "metadata": {
        "colab_type": "code",
        "id": "GB6bBd5oRyny",
        "colab": {
          "base_uri": "https://localhost:8080/",
          "height": 51
        },
        "outputId": "e1c0b62e-6253-4ba9-fbed-ff43d8ed9fd4"
      },
      "source": [
        "a = np.array([[1,2,3],[4,5,6]])\n",
        "b = np.array([[400], [800]])\n",
        "\n",
        "c = np.append(a, b, axis = 1)\n",
        "c"
      ],
      "execution_count": null,
      "outputs": [
        {
          "output_type": "execute_result",
          "data": {
            "text/plain": [
              "array([[  1,   2,   3, 400],\n",
              "       [  4,   5,   6, 800]])"
            ]
          },
          "metadata": {
            "tags": []
          },
          "execution_count": 48
        }
      ]
    },
    {
      "cell_type": "code",
      "metadata": {
        "colab_type": "code",
        "id": "klX8rt6oR3zE",
        "colab": {
          "base_uri": "https://localhost:8080/",
          "height": 34
        },
        "outputId": "7284ccd9-d0e1-472b-a7e4-7c00d38ea3a2"
      },
      "source": [
        "d = np.array([1, 2, 3])\n",
        "e = np.insert(a, 1, 90) ## specify whick index add the value we want\n",
        "e"
      ],
      "execution_count": null,
      "outputs": [
        {
          "output_type": "execute_result",
          "data": {
            "text/plain": [
              "array([ 1, 90,  2,  3,  4,  5,  6])"
            ]
          },
          "metadata": {
            "tags": []
          },
          "execution_count": 49
        }
      ]
    },
    {
      "cell_type": "code",
      "metadata": {
        "colab_type": "code",
        "id": "vNMeDbeHR3wR",
        "colab": {
          "base_uri": "https://localhost:8080/",
          "height": 34
        },
        "outputId": "d7a7a15c-d797-49a7-9605-c94878a9a148"
      },
      "source": [
        "d = np.array([1, 2, 3])\n",
        "e = np.insert(d, 0, 60) ## specify whick index add the value we want\n",
        "e"
      ],
      "execution_count": null,
      "outputs": [
        {
          "output_type": "execute_result",
          "data": {
            "text/plain": [
              "array([60,  1,  2,  3])"
            ]
          },
          "metadata": {
            "tags": []
          },
          "execution_count": 52
        }
      ]
    },
    {
      "cell_type": "code",
      "metadata": {
        "colab_type": "code",
        "id": "K2Ra-zmqSh8H",
        "colab": {
          "base_uri": "https://localhost:8080/",
          "height": 34
        },
        "outputId": "703f91d2-d8e5-4735-ffa5-21c192c03382"
      },
      "source": [
        "len(d)"
      ],
      "execution_count": null,
      "outputs": [
        {
          "output_type": "execute_result",
          "data": {
            "text/plain": [
              "3"
            ]
          },
          "metadata": {
            "tags": []
          },
          "execution_count": 53
        }
      ]
    },
    {
      "cell_type": "code",
      "metadata": {
        "colab_type": "code",
        "id": "ATZLbdQcR3sp",
        "colab": {
          "base_uri": "https://localhost:8080/",
          "height": 34
        },
        "outputId": "a4858e7c-d82a-40ba-b234-60bcba56c1a8"
      },
      "source": [
        "d = np.array([1, 2, 3])\n",
        "\n",
        "e = np.insert(d, 3, 90) ## specify whick index add the value we want\n",
        "e"
      ],
      "execution_count": null,
      "outputs": [
        {
          "output_type": "execute_result",
          "data": {
            "text/plain": [
              "array([ 1,  2,  3, 90])"
            ]
          },
          "metadata": {
            "tags": []
          },
          "execution_count": 54
        }
      ]
    },
    {
      "cell_type": "code",
      "metadata": {
        "colab_type": "code",
        "id": "DoV5CxARR3qh",
        "colab": {}
      },
      "source": [
        "#APPEND A ROW"
      ],
      "execution_count": null,
      "outputs": []
    },
    {
      "cell_type": "code",
      "metadata": {
        "colab_type": "code",
        "id": "BUu8sYV-R3nK",
        "colab": {
          "base_uri": "https://localhost:8080/",
          "height": 68
        },
        "outputId": "e5725b03-281c-4229-f20f-4cc364068277"
      },
      "source": [
        "a = np.array([[1, 2, 3], [4, 5, 6]])\n",
        "\n",
        "b = np.append(a, [[50, 60, 70]], axis = 0)\n",
        "b"
      ],
      "execution_count": null,
      "outputs": [
        {
          "output_type": "execute_result",
          "data": {
            "text/plain": [
              "array([[ 1,  2,  3],\n",
              "       [ 4,  5,  6],\n",
              "       [50, 60, 70]])"
            ]
          },
          "metadata": {
            "tags": []
          },
          "execution_count": 56
        }
      ]
    },
    {
      "cell_type": "code",
      "metadata": {
        "colab_type": "code",
        "id": "WavXw_CBR3kZ",
        "colab": {
          "base_uri": "https://localhost:8080/",
          "height": 51
        },
        "outputId": "290cee87-81e8-476c-90f9-a9bec2242824"
      },
      "source": [
        "## se volessi per colonna?\n",
        "a = np.array([[1, 2, 3], [4, 5, 6]])\n",
        "\n",
        "c = np.array([[50],[60]])\n",
        "b = np.append(a, c, axis = 1)\n",
        "b"
      ],
      "execution_count": null,
      "outputs": [
        {
          "output_type": "execute_result",
          "data": {
            "text/plain": [
              "array([[ 1,  2,  3, 50],\n",
              "       [ 4,  5,  6, 60]])"
            ]
          },
          "metadata": {
            "tags": []
          },
          "execution_count": 57
        }
      ]
    },
    {
      "cell_type": "code",
      "metadata": {
        "colab_type": "code",
        "id": "BbYDe3tlR3i8",
        "colab": {
          "base_uri": "https://localhost:8080/",
          "height": 34
        },
        "outputId": "e2225627-119d-47b4-cde6-0ee4e101a5ac"
      },
      "source": [
        "### Delete an element\n",
        "x = np.array([1, 2, 3])\n",
        "\n",
        "x= np.delete(x, 1, axis = 0)\n",
        "x"
      ],
      "execution_count": null,
      "outputs": [
        {
          "output_type": "execute_result",
          "data": {
            "text/plain": [
              "array([1, 3])"
            ]
          },
          "metadata": {
            "tags": []
          },
          "execution_count": 58
        }
      ]
    },
    {
      "cell_type": "code",
      "metadata": {
        "colab_type": "code",
        "id": "YlXWa22aR3fk",
        "colab": {
          "base_uri": "https://localhost:8080/",
          "height": 51
        },
        "outputId": "35dbf0b9-d8b0-44ee-e229-bf06b29c09cd"
      },
      "source": [
        "#delete an entire row (axis = 0)\n",
        "x = np.array([[1, 2, 3], [4, 5, 6], [10, 20, 30]])\n",
        "\n",
        "x = np.delete(x, 2, axis = 0)\n",
        "x"
      ],
      "execution_count": null,
      "outputs": [
        {
          "output_type": "execute_result",
          "data": {
            "text/plain": [
              "array([[1, 2, 3],\n",
              "       [4, 5, 6]])"
            ]
          },
          "metadata": {
            "tags": []
          },
          "execution_count": 59
        }
      ]
    },
    {
      "cell_type": "code",
      "metadata": {
        "colab_type": "code",
        "id": "1q_OhwitR3ci",
        "colab": {
          "base_uri": "https://localhost:8080/",
          "height": 34
        },
        "outputId": "02e48398-9873-40f7-e97d-6b55e857c3f1"
      },
      "source": [
        "x.shape"
      ],
      "execution_count": null,
      "outputs": [
        {
          "output_type": "execute_result",
          "data": {
            "text/plain": [
              "(2, 3)"
            ]
          },
          "metadata": {
            "tags": []
          },
          "execution_count": 60
        }
      ]
    },
    {
      "cell_type": "code",
      "metadata": {
        "colab_type": "code",
        "id": "K76vvn1JR3ac",
        "colab": {
          "base_uri": "https://localhost:8080/",
          "height": 68
        },
        "outputId": "58dec169-f5cb-40bb-ffb5-94c9100ecf91"
      },
      "source": [
        "#delete an entire column (axis = 1)\n",
        "x = np.array([[1, 2, 3], [4, 5, 6], [10, 20, 30]])\n",
        "\n",
        "x = np.delete(x, 2, axis = 1)\n",
        "x"
      ],
      "execution_count": null,
      "outputs": [
        {
          "output_type": "execute_result",
          "data": {
            "text/plain": [
              "array([[ 1,  2],\n",
              "       [ 4,  5],\n",
              "       [10, 20]])"
            ]
          },
          "metadata": {
            "tags": []
          },
          "execution_count": 61
        }
      ]
    },
    {
      "cell_type": "code",
      "metadata": {
        "colab_type": "code",
        "id": "EHHLss5qR3Xd",
        "colab": {
          "base_uri": "https://localhost:8080/",
          "height": 34
        },
        "outputId": "752a12f2-cda3-4380-d1d9-2ea4e85176f2"
      },
      "source": [
        "#find the index value\n",
        "\n",
        "a = np.array([1, 2, 3, 4, 5])\n",
        "\n",
        "print(\"il valore 5 si trova all'index: \", np.where(a == 5))"
      ],
      "execution_count": null,
      "outputs": [
        {
          "output_type": "stream",
          "text": [
            "il valore 5 si trova all'index:  (array([4]),)\n"
          ],
          "name": "stdout"
        }
      ]
    },
    {
      "cell_type": "code",
      "metadata": {
        "colab_type": "code",
        "id": "5vvKoSZaR3Vs",
        "colab": {
          "base_uri": "https://localhost:8080/",
          "height": 34
        },
        "outputId": "199a9c06-9a40-4c76-e5f5-bcc5fe55a37a"
      },
      "source": [
        "######### automatic addition\n",
        "\n",
        "addizione = lambda x: x + 2\n",
        "\n",
        "a = np.array([1, 2, 3, 4, 5, 6])\n",
        "\n",
        "b = addizione(a)\n",
        "b"
      ],
      "execution_count": null,
      "outputs": [
        {
          "output_type": "execute_result",
          "data": {
            "text/plain": [
              "array([3, 4, 5, 6, 7, 8])"
            ]
          },
          "metadata": {
            "tags": []
          },
          "execution_count": 63
        }
      ]
    },
    {
      "cell_type": "code",
      "metadata": {
        "colab_type": "code",
        "id": "w--2BNq7R3Un",
        "colab": {
          "base_uri": "https://localhost:8080/",
          "height": 34
        },
        "outputId": "2fe19001-df7c-406f-cb61-7db3a94dd6cd"
      },
      "source": [
        "moltiplicazione = lambda x: x**2\n",
        "\n",
        "a = np.array([1, 2, 3, 4, 5, 6])\n",
        "\n",
        "b = moltiplicazione(a)\n",
        "b"
      ],
      "execution_count": null,
      "outputs": [
        {
          "output_type": "execute_result",
          "data": {
            "text/plain": [
              "array([ 1,  4,  9, 16, 25, 36])"
            ]
          },
          "metadata": {
            "tags": []
          },
          "execution_count": 64
        }
      ]
    },
    {
      "cell_type": "code",
      "metadata": {
        "colab_type": "code",
        "id": "cCIut-V2R3Qj",
        "colab": {
          "base_uri": "https://localhost:8080/",
          "height": 34
        },
        "outputId": "fa85392e-e12d-4c3e-aee2-6f6eb9acd20d"
      },
      "source": [
        "età=18\n",
        "\n",
        "if età <18:\n",
        "    print('sei minorenne')\n",
        "else:\n",
        "    print('sei maggiorenne')"
      ],
      "execution_count": null,
      "outputs": [
        {
          "output_type": "stream",
          "text": [
            "sei maggiorenne\n"
          ],
          "name": "stdout"
        }
      ]
    },
    {
      "cell_type": "code",
      "metadata": {
        "colab_type": "code",
        "id": "hMPXAr9xR3N2",
        "colab": {
          "base_uri": "https://localhost:8080/",
          "height": 34
        },
        "outputId": "fb667aea-fbd7-4787-e4bf-fc08cb95f0cd"
      },
      "source": [
        "età=18\n",
        "\n",
        "if età <10:\n",
        "    print('sei un bimbo')\n",
        "elif età<=18:\n",
        "    print('sei un regaz')\n",
        "elif età<50:\n",
        "    print('sei un boomer')\n",
        "else:\n",
        "    print('bella vecchio! sei anziano')"
      ],
      "execution_count": null,
      "outputs": [
        {
          "output_type": "stream",
          "text": [
            "sei un regaz\n"
          ],
          "name": "stdout"
        }
      ]
    },
    {
      "cell_type": "code",
      "metadata": {
        "colab_type": "code",
        "id": "c1eON1IMTwQw",
        "colab": {
          "base_uri": "https://localhost:8080/",
          "height": 34
        },
        "outputId": "9346f8c5-28d1-47e2-d411-8844cb53f466"
      },
      "source": [
        "età=50\n",
        "patente=False\n",
        "\n",
        "if età >=18 and patente==True:\n",
        "    print('puoi guidare finalmente la tua auto da sogno')\n",
        "elif età >=18 and patente==False:\n",
        "    print('no patente, no party')\n",
        "else:\n",
        "    print('mi dispiace, ritenta quando sarai più grande!!')"
      ],
      "execution_count": null,
      "outputs": [
        {
          "output_type": "stream",
          "text": [
            "no patente, no party\n"
          ],
          "name": "stdout"
        }
      ]
    },
    {
      "cell_type": "markdown",
      "metadata": {
        "colab_type": "text",
        "id": "aVxuPzCuUB0W"
      },
      "source": [
        "## Funzioni"
      ]
    },
    {
      "cell_type": "code",
      "metadata": {
        "colab_type": "code",
        "id": "w5nQNDzVUBFO",
        "colab": {}
      },
      "source": [
        "def somma_due_numeri(a,b): ## a,b sono argomenti\n",
        "    #print('questa funzione somma due numeri:')\n",
        "    risultato = a + b\n",
        "    return risultato\n",
        "# OUTPUT DI UNA FUNZIONE è IL VALORE DEL SUO RETURN\n",
        "# TUTTE LE FUNZIONI HANNO UN RETURN"
      ],
      "execution_count": null,
      "outputs": []
    },
    {
      "cell_type": "code",
      "metadata": {
        "colab_type": "code",
        "id": "1neHPvJfT5gw",
        "colab": {}
      },
      "source": [
        "## input"
      ],
      "execution_count": null,
      "outputs": []
    },
    {
      "cell_type": "code",
      "metadata": {
        "colab_type": "code",
        "id": "J9df6FA4USn2",
        "colab": {}
      },
      "source": [
        "x =input()\n",
        "#x = input('inserire qualcosa   ')"
      ],
      "execution_count": null,
      "outputs": []
    },
    {
      "cell_type": "code",
      "metadata": {
        "colab_type": "code",
        "id": "pOxY8eY7UWfo",
        "colab": {}
      },
      "source": [
        "type(x)"
      ],
      "execution_count": null,
      "outputs": []
    },
    {
      "cell_type": "code",
      "metadata": {
        "colab_type": "code",
        "id": "i8ns-kXsUWcO",
        "colab": {}
      },
      "source": [
        "### PROGRAMMA\n",
        "print('questo è il mio programma in python')\n",
        "\n",
        "nome=input('inserire il tuo nome  ') \n",
        "print('buon pomeriggio  '+nome+'  spero tu stia imparando tantissimo!')"
      ],
      "execution_count": null,
      "outputs": []
    },
    {
      "cell_type": "code",
      "metadata": {
        "colab_type": "code",
        "id": "_dxO9VpLUWaF",
        "colab": {}
      },
      "source": [
        "età = input('quanti anni hai?')\n",
        "print('Bene!!! dunque hai '+ età + '  anni. Il porssimo anno ne avrai '+ str(int(età)+1))"
      ],
      "execution_count": null,
      "outputs": []
    }
  ]
}